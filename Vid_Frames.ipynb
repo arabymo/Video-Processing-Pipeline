{
  "cells": [
    {
      "cell_type": "code",
      "execution_count": 2,
      "metadata": {
        "id": "m2I2kHS1B6wz"
      },
      "outputs": [],
      "source": [
        "# Importing required libraries and dependencies\n",
        "\n",
        "from pytubefix import YouTube\n",
        "from moviepy.editor import VideoFileClip\n",
        "from moviepy.video.io.ffmpeg_tools import ffmpeg_extract_subclip\n",
        "from concurrent.futures import ThreadPoolExecutor\n",
        "from tqdm import tqdm\n",
        "import logging\n",
        "import cv2\n",
        "import os\n",
        "import random\n",
        "import shutil"
      ]
    },
    {
      "cell_type": "code",
      "execution_count": 3,
      "metadata": {
        "id": "0SouMf62g6Sx"
      },
      "outputs": [],
      "source": [
        "# Configuring the logger\n",
        "logger = logging.getLogger(__name__)\n",
        "logger.setLevel(logging.DEBUG)\n",
        "# Create a formatter\n",
        "formatter = logging.Formatter(\"%(asctime)s - %(message)s\")\n",
        "\n",
        "# Create handlers\n",
        "info_handler = logging.FileHandler(\"info_logs.txt\")\n",
        "info_handler.setLevel(logging.INFO)\n",
        "info_handler.setFormatter(formatter)\n",
        "\n",
        "error_handler = logging.FileHandler(\"error_logs.txt\")\n",
        "error_handler.setLevel(logging.ERROR)\n",
        "error_handler.setFormatter(formatter)\n",
        "\n",
        "# Add handlers to the logger\n",
        "logger.addHandler(info_handler)\n",
        "logger.addHandler(error_handler)"
      ]
    },
    {
      "cell_type": "code",
      "execution_count": 4,
      "metadata": {
        "collapsed": true,
        "id": "Ht2ztGXeCA3P"
      },
      "outputs": [],
      "source": [
        "def download(vid_link: str):\n",
        "  \"\"\"\n",
        "  This function downloaded any video from YouTube by passing it the link as an argument, it then return the file path of the downloaded video\n",
        "  \"\"\"\n",
        "  try:\n",
        "    yt = YouTube(vid_link)\n",
        "    vid_title = yt.title.split('|')[0] + \"- Full Documentary Film\"\n",
        "    logger.info(f\"Retrieved video: {vid_title}\")\n",
        "\n",
        "    file_path = f\"/content/{vid_title}.mp4\"\n",
        "\n",
        "    if os.path.isfile(file_path):\n",
        "      logger.info(\"Video already downloaded!\")\n",
        "      return file_path\n",
        "\n",
        "    else:\n",
        "      try:\n",
        "        video = yt.streams.get_highest_resolution().download(filename=vid_title)\n",
        "        logging.info(\"Downloading video...\")\n",
        "        os.rename(video, file_path)  # Rename the file to ensure consistent naming\n",
        "        logging.info(\"Download is completed successfully!\")\n",
        "        return file_path\n",
        "\n",
        "      except Exception as e:\n",
        "        logger.error(f\"Failed to download video: {vid_title}. Error: {e}\")\n",
        "        return None\n",
        "\n",
        "  except Exception as e:\n",
        "    logger.error(f\"Could not find the video. Please double-check the link provided. Error: {e}\")\n",
        "    return None\n",
        "\n"
      ]
    },
    {
      "cell_type": "code",
      "execution_count": 5,
      "metadata": {
        "id": "MKXVJX6VFhaw"
      },
      "outputs": [],
      "source": [
        "def split_video(filepath: str, num_parts: int = 4):\n",
        "  \"\"\"\n",
        "  Split the video into specified number of parts.\n",
        "  \"\"\"\n",
        "  video = VideoFileClip(filepath)\n",
        "  duration = video.duration\n",
        "  video.close()\n",
        "  part_duration = duration / num_parts\n",
        "\n",
        "  def process_part(i):\n",
        "    part_path= f\"/content/part{i+1}.mp4\"\n",
        "    target_name = f\"part{i + 1}.mp4\"\n",
        "    if os.path.isfile(target_name):\n",
        "      logger.info(f\"{target_name} already exists, skipping...\")\n",
        "    else:\n",
        "      start_time = i * part_duration\n",
        "      end_time = (i + 1) * part_duration\n",
        "      ffmpeg_extract_subclip(filepath, start_time, end_time, targetname=target_name)\n",
        "      logging.info(f\"{target_name} created successfully.\")\n",
        "    return part_path\n",
        "\n",
        "  with ThreadPoolExecutor() as executor:\n",
        "    part_paths = list(tqdm(executor.map(process_part, range(num_parts)), total=num_parts))\n",
        "  return part_paths"
      ]
    },
    {
      "cell_type": "code",
      "source": [
        "def frame_capture(video_path, output_folder, start_frame=1):\n",
        "  \"\"\"\n",
        "  Capture frames from the video and save them in the output folder.\n",
        "  Frames are counted starting from start_frame.\n",
        "  \"\"\"\n",
        "  # Creating a global variable to store count of frames\n",
        "  frame_counter = start_frame\n",
        "\n",
        "  # Checking if the output folder is created or not\n",
        "  if os.path.exists(output_folder):\n",
        "    logger.info(f\"Output folder already exists: {output_folder}\")\n",
        "  else:\n",
        "    logger.info(f\"Creating the output folder: {output_folder}\")\n",
        "    os.makedirs(output_folder)\n",
        "\n",
        "    # Trying to open the video\n",
        "    vid = cv2.VideoCapture(video_path)\n",
        "    if not vid.isOpened():\n",
        "          logger.error(\"Error opening video file\")\n",
        "          return None\n",
        "\n",
        "    while True:\n",
        "      ret, frame = vid.read()\n",
        "\n",
        "      if not ret:\n",
        "        logger.error(\" Exiting the loop if no frames are left.\")\n",
        "        break\n",
        "\n",
        "\n",
        "      frame_filename = os.path.join(output_folder, f\"frame_{frame_counter}.jpg\")\n",
        "      cv2.putText(frame, f\"Frame_{frame_counter}\", (10, 30), cv2.FONT_HERSHEY_SIMPLEX, 1, (0, 255, 0), 2)\n",
        "      cv2.imwrite(frame_filename, frame)\n",
        "      frame_counter += 1\n",
        "\n",
        "    vid.release()\n",
        "    cv2.destroyAllWindows()\n",
        "    logger.info(f\"Extracted {frame_counter} frames to '{output_folder}'\")\n",
        "\n",
        "  return frame_counter"
      ],
      "metadata": {
        "id": "1OdYELHhQk3E"
      },
      "execution_count": 6,
      "outputs": []
    },
    {
      "cell_type": "code",
      "execution_count": 7,
      "metadata": {
        "colab": {
          "base_uri": "https://localhost:8080/"
        },
        "id": "bWULmTUsVwTj",
        "collapsed": true,
        "outputId": "e01cc9fd-2aad-4513-96c9-fa5f81294f5c"
      },
      "outputs": [
        {
          "output_type": "stream",
          "name": "stderr",
          "text": [
            "INFO:__main__:Retrieved video: “Whatever it Takes”  Full Documentary Film – 4K Original Version- Full Documentary Film\n"
          ]
        },
        {
          "output_type": "stream",
          "name": "stdout",
          "text": [
            "Moviepy - Running:\n",
            ">>> \"+ \" \".join(cmd)\n",
            "Moviepy - Running:\n",
            ">>> \"+ \" \".join(cmd)\n",
            "Moviepy - Running:\n",
            ">>> \"+ \" \".join(cmd)\n",
            "Moviepy - Running:\n",
            ">>> \"+ \" \".join(cmd)\n"
          ]
        },
        {
          "output_type": "stream",
          "name": "stderr",
          "text": [
            "100%|██████████| 4/4 [00:02<00:00,  1.59it/s]\n",
            "INFO:__main__:Creating the output folder: part1\n"
          ]
        },
        {
          "output_type": "stream",
          "name": "stdout",
          "text": [
            "Moviepy - Command successful\n",
            "Moviepy - Command successful\n",
            "Moviepy - Command successful\n",
            "Moviepy - Command successful\n"
          ]
        },
        {
          "output_type": "stream",
          "name": "stderr",
          "text": [
            "ERROR:__main__: Exiting the loop if no frames are left.\n",
            "INFO:__main__:Extracted 33361 frames to 'part1'\n",
            "INFO:__main__:Creating the output folder: part2\n",
            "ERROR:__main__: Exiting the loop if no frames are left.\n",
            "INFO:__main__:Extracted 66721 frames to 'part2'\n",
            "INFO:__main__:Creating the output folder: part3\n",
            "ERROR:__main__: Exiting the loop if no frames are left.\n",
            "INFO:__main__:Extracted 100082 frames to 'part3'\n",
            "INFO:__main__:Creating the output folder: part4\n",
            "ERROR:__main__: Exiting the loop if no frames are left.\n",
            "INFO:__main__:Extracted 133440 frames to 'part4'\n"
          ]
        }
      ],
      "source": [
        "filepath = download(\"https://www.youtube.com/watch?v=6-ADixXflJw\")\n",
        "parts_path = split_video(filepath, 4)\n",
        "\n",
        "total_frames = 0\n",
        "for video_path in parts_path:\n",
        "  output = video_path.split('/')[-1].split('.')[0]\n",
        "  total_frames = frame_capture(video_path, output, start_frame=total_frames + 1)"
      ]
    },
    {
      "cell_type": "code",
      "source": [
        "directories = [\n",
        "    \"/content/part1\",\n",
        "    \"/content/part2\",\n",
        "    \"/content/part3\",\n",
        "    \"/content/part4\"\n",
        "]\n",
        "destination_folder = \"/content/random_selection\"\n",
        "drive_folder = \"/content/drive/MyDrive/Frames_video\"\n",
        "os.makedirs(destination_folder, exist_ok=True)\n",
        "\n",
        "for path in directories:\n",
        "  try:\n",
        "    files = os.listdir(path)\n",
        "    random_file = random.choice(files)\n",
        "    random_file_path = os.path.join(path, random_file)\n",
        "    shutil.copy(random_file_path, destination_folder)\n",
        "  except (FileNotFoundError, NotADirectoryError) as e:\n",
        "    print(f\"Error accessing {path}: {e}\")\n",
        "  except IndexError:\n",
        "    print(f\"No files found in {path}\")"
      ],
      "metadata": {
        "id": "s0qPafEFfqXc"
      },
      "execution_count": 10,
      "outputs": []
    }
  ],
  "metadata": {
    "colab": {
      "provenance": [],
      "mount_file_id": "1F1q3o0eEsnI2RZnTOEGcQN0F1JPKe2eT",
      "authorship_tag": "ABX9TyOP10i37TxDj7I5ZKH/dVGf"
    },
    "kernelspec": {
      "display_name": "Python 3",
      "name": "python3"
    },
    "language_info": {
      "name": "python"
    }
  },
  "nbformat": 4,
  "nbformat_minor": 0
}